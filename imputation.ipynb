{
  "nbformat": 4,
  "nbformat_minor": 0,
  "metadata": {
    "colab": {
      "name": "imputation.ipynb",
      "provenance": [],
      "collapsed_sections": [],
      "toc_visible": true
    },
    "kernelspec": {
      "name": "python3",
      "display_name": "Python 3"
    },
    "accelerator": "GPU"
  },
  "cells": [
    {
      "cell_type": "markdown",
      "metadata": {
        "id": "OardhxriWkGA"
      },
      "source": [
        "#Missing Data Imputation\n",
        "1. Mean Imputation\n",
        "2. Mode imputation\n",
        "3. Model-based imputation-KNN\n",
        "4. Model-based imputation-regression\n",
        "5. Multiple imputation-mice\n",
        "6. Deep neural network imputation-datawig"
      ]
    },
    {
      "cell_type": "code",
      "metadata": {
        "id": "_z_HT04sLDtq"
      },
      "source": [
        "!pip install datawig"
      ],
      "execution_count": null,
      "outputs": []
    },
    {
      "cell_type": "code",
      "metadata": {
        "id": "NVaRD2zFLQhw",
        "outputId": "48e756b8-f3cc-4dc9-fd49-e562742e5f81",
        "colab": {
          "base_uri": "https://localhost:8080/",
          "height": 183
        }
      },
      "source": [
        "!pip install impyute"
      ],
      "execution_count": null,
      "outputs": [
        {
          "output_type": "stream",
          "text": [
            "Collecting impyute\n",
            "  Downloading https://files.pythonhosted.org/packages/37/28/86829f67c9affb847facaab94687761d3555539ec675f7577778c5b2680a/impyute-0.0.8-py2.py3-none-any.whl\n",
            "Requirement already satisfied: numpy in /usr/local/lib/python3.6/dist-packages (from impyute) (1.18.5)\n",
            "Requirement already satisfied: scikit-learn in /usr/local/lib/python3.6/dist-packages (from impyute) (0.22.2.post1)\n",
            "Requirement already satisfied: scipy in /usr/local/lib/python3.6/dist-packages (from impyute) (1.4.1)\n",
            "Requirement already satisfied: joblib>=0.11 in /usr/local/lib/python3.6/dist-packages (from scikit-learn->impyute) (0.16.0)\n",
            "Installing collected packages: impyute\n",
            "Successfully installed impyute-0.0.8\n"
          ],
          "name": "stdout"
        }
      ]
    },
    {
      "cell_type": "code",
      "metadata": {
        "id": "nsomK56YJmjX"
      },
      "source": [
        "#importing libraries\n",
        "import numpy as np\n",
        "import pandas as pd\n",
        "import seaborn as sns\n",
        "import matplotlib.pyplot as plt\n",
        "\n",
        "from sklearn.linear_model import LinearRegression\n",
        "from sklearn.impute import SimpleImputer\n",
        "from impyute.imputation.cs import fast_knn, mice\n",
        "import datawig"
      ],
      "execution_count": 6,
      "outputs": []
    },
    {
      "cell_type": "code",
      "metadata": {
        "id": "uebYAILSLg9R",
        "outputId": "fafe99aa-2e9a-437a-8a2c-31d0882f6ddb",
        "colab": {
          "base_uri": "https://localhost:8080/",
          "height": 128
        }
      },
      "source": [
        "#loading data\n",
        "df=pd.read_csv('imu.csv')\n",
        "df.head(2)"
      ],
      "execution_count": 7,
      "outputs": [
        {
          "output_type": "execute_result",
          "data": {
            "text/html": [
              "<div>\n",
              "<style scoped>\n",
              "    .dataframe tbody tr th:only-of-type {\n",
              "        vertical-align: middle;\n",
              "    }\n",
              "\n",
              "    .dataframe tbody tr th {\n",
              "        vertical-align: top;\n",
              "    }\n",
              "\n",
              "    .dataframe thead th {\n",
              "        text-align: right;\n",
              "    }\n",
              "</style>\n",
              "<table border=\"1\" class=\"dataframe\">\n",
              "  <thead>\n",
              "    <tr style=\"text-align: right;\">\n",
              "      <th></th>\n",
              "      <th>Time</th>\n",
              "      <th>Accelerometer_X</th>\n",
              "      <th>Accelerometer_Y</th>\n",
              "      <th>Accelerometer_Z</th>\n",
              "      <th>Gyroscope_X</th>\n",
              "      <th>Gyroscope_Y</th>\n",
              "      <th>Gyroscope_Z</th>\n",
              "      <th>Magnetometer_X</th>\n",
              "      <th>Magnetometer_Y</th>\n",
              "      <th>Magnetometer_Z</th>\n",
              "      <th>Velocitemeter_X</th>\n",
              "      <th>Velocitemeter_Y</th>\n",
              "      <th>Velocitemeter_Z</th>\n",
              "      <th>LoadcellA</th>\n",
              "      <th>Quaternion_1</th>\n",
              "      <th>Quaternion_2</th>\n",
              "      <th>Quaternion_3</th>\n",
              "      <th>Quaternion_4</th>\n",
              "    </tr>\n",
              "  </thead>\n",
              "  <tbody>\n",
              "    <tr>\n",
              "      <th>0</th>\n",
              "      <td>737751.912040</td>\n",
              "      <td>0</td>\n",
              "      <td>-1</td>\n",
              "      <td>1.0</td>\n",
              "      <td>-27.0</td>\n",
              "      <td>53.0</td>\n",
              "      <td>1041.0</td>\n",
              "      <td>0.0</td>\n",
              "      <td>0.0</td>\n",
              "      <td>0.0</td>\n",
              "      <td>-2077.0</td>\n",
              "      <td>172.0</td>\n",
              "      <td>3391.0</td>\n",
              "      <td>332.0</td>\n",
              "      <td>NaN</td>\n",
              "      <td>NaN</td>\n",
              "      <td>-0.031</td>\n",
              "      <td>-0.7074</td>\n",
              "    </tr>\n",
              "    <tr>\n",
              "      <th>1</th>\n",
              "      <td>737751.912041</td>\n",
              "      <td>0</td>\n",
              "      <td>-1</td>\n",
              "      <td>1.0</td>\n",
              "      <td>-27.0</td>\n",
              "      <td>53.0</td>\n",
              "      <td>1041.0</td>\n",
              "      <td>0.0</td>\n",
              "      <td>0.0</td>\n",
              "      <td>0.0</td>\n",
              "      <td>-2077.0</td>\n",
              "      <td>172.0</td>\n",
              "      <td>3391.0</td>\n",
              "      <td>332.0</td>\n",
              "      <td>NaN</td>\n",
              "      <td>NaN</td>\n",
              "      <td>NaN</td>\n",
              "      <td>-0.7074</td>\n",
              "    </tr>\n",
              "  </tbody>\n",
              "</table>\n",
              "</div>"
            ],
            "text/plain": [
              "            Time  Accelerometer_X  ...  Quaternion_3  Quaternion_4\n",
              "0  737751.912040                0  ...        -0.031       -0.7074\n",
              "1  737751.912041                0  ...           NaN       -0.7074\n",
              "\n",
              "[2 rows x 18 columns]"
            ]
          },
          "metadata": {
            "tags": []
          },
          "execution_count": 7
        }
      ]
    },
    {
      "cell_type": "code",
      "metadata": {
        "id": "fFmXvkiWL0iX",
        "outputId": "850ff619-f054-4576-a72d-26bcb5cd5477",
        "colab": {
          "base_uri": "https://localhost:8080/",
          "height": 108
        }
      },
      "source": [
        "data=df.loc[:,['Quaternion_1','Quaternion_2','Quaternion_3','Quaternion_4']]\n",
        "data.head(2)"
      ],
      "execution_count": 8,
      "outputs": [
        {
          "output_type": "execute_result",
          "data": {
            "text/html": [
              "<div>\n",
              "<style scoped>\n",
              "    .dataframe tbody tr th:only-of-type {\n",
              "        vertical-align: middle;\n",
              "    }\n",
              "\n",
              "    .dataframe tbody tr th {\n",
              "        vertical-align: top;\n",
              "    }\n",
              "\n",
              "    .dataframe thead th {\n",
              "        text-align: right;\n",
              "    }\n",
              "</style>\n",
              "<table border=\"1\" class=\"dataframe\">\n",
              "  <thead>\n",
              "    <tr style=\"text-align: right;\">\n",
              "      <th></th>\n",
              "      <th>Quaternion_1</th>\n",
              "      <th>Quaternion_2</th>\n",
              "      <th>Quaternion_3</th>\n",
              "      <th>Quaternion_4</th>\n",
              "    </tr>\n",
              "  </thead>\n",
              "  <tbody>\n",
              "    <tr>\n",
              "      <th>0</th>\n",
              "      <td>NaN</td>\n",
              "      <td>NaN</td>\n",
              "      <td>-0.031</td>\n",
              "      <td>-0.7074</td>\n",
              "    </tr>\n",
              "    <tr>\n",
              "      <th>1</th>\n",
              "      <td>NaN</td>\n",
              "      <td>NaN</td>\n",
              "      <td>NaN</td>\n",
              "      <td>-0.7074</td>\n",
              "    </tr>\n",
              "  </tbody>\n",
              "</table>\n",
              "</div>"
            ],
            "text/plain": [
              "   Quaternion_1  Quaternion_2  Quaternion_3  Quaternion_4\n",
              "0           NaN           NaN        -0.031       -0.7074\n",
              "1           NaN           NaN           NaN       -0.7074"
            ]
          },
          "metadata": {
            "tags": []
          },
          "execution_count": 8
        }
      ]
    },
    {
      "cell_type": "markdown",
      "metadata": {
        "id": "m2JHK-4SMewW"
      },
      "source": [
        "## Mean Imputation"
      ]
    },
    {
      "cell_type": "code",
      "metadata": {
        "id": "ebT07RKLMKQT",
        "outputId": "e6ce7a0b-d7e1-44a5-afee-e42e2b69fffc",
        "colab": {
          "base_uri": "https://localhost:8080/",
          "height": 108
        }
      },
      "source": [
        "impute_mean=SimpleImputer(strategy='mean')\n",
        "impute_mean.fit(data)\n",
        "imputed_mean=impute_mean.transform(data)\n",
        "imputed_mean=pd.DataFrame(imputed_mean,columns=data.columns)\n",
        "imputed_mean.head(2)"
      ],
      "execution_count": null,
      "outputs": [
        {
          "output_type": "execute_result",
          "data": {
            "text/html": [
              "<div>\n",
              "<style scoped>\n",
              "    .dataframe tbody tr th:only-of-type {\n",
              "        vertical-align: middle;\n",
              "    }\n",
              "\n",
              "    .dataframe tbody tr th {\n",
              "        vertical-align: top;\n",
              "    }\n",
              "\n",
              "    .dataframe thead th {\n",
              "        text-align: right;\n",
              "    }\n",
              "</style>\n",
              "<table border=\"1\" class=\"dataframe\">\n",
              "  <thead>\n",
              "    <tr style=\"text-align: right;\">\n",
              "      <th></th>\n",
              "      <th>Quaternion_1</th>\n",
              "      <th>Quaternion_2</th>\n",
              "      <th>Quaternion_3</th>\n",
              "      <th>Quaternion_4</th>\n",
              "    </tr>\n",
              "  </thead>\n",
              "  <tbody>\n",
              "    <tr>\n",
              "      <th>0</th>\n",
              "      <td>-0.168971</td>\n",
              "      <td>-0.016905</td>\n",
              "      <td>-0.031000</td>\n",
              "      <td>-0.7074</td>\n",
              "    </tr>\n",
              "    <tr>\n",
              "      <th>1</th>\n",
              "      <td>-0.168971</td>\n",
              "      <td>-0.016905</td>\n",
              "      <td>-0.063265</td>\n",
              "      <td>-0.7074</td>\n",
              "    </tr>\n",
              "  </tbody>\n",
              "</table>\n",
              "</div>"
            ],
            "text/plain": [
              "   Quaternion_1  Quaternion_2  Quaternion_3  Quaternion_4\n",
              "0     -0.168971     -0.016905     -0.031000       -0.7074\n",
              "1     -0.168971     -0.016905     -0.063265       -0.7074"
            ]
          },
          "metadata": {
            "tags": []
          },
          "execution_count": 14
        }
      ]
    },
    {
      "cell_type": "code",
      "metadata": {
        "id": "4IdCq937M_ez",
        "outputId": "aa7ccba8-e27b-434f-b5ec-38890409fb45",
        "colab": {
          "base_uri": "https://localhost:8080/",
          "height": 408
        }
      },
      "source": [
        "sns.distplot(data['Quaternion_2'], hist=True, \n",
        "             kde=True, bins=90, hist_kws={'edgecolor':'black'},\n",
        "             kde_kws={'linewidth':4})\n",
        "\n",
        "sns.distplot(imputed_mean['Quaternion_2'], hist=True, \n",
        "             kde=True, bins=90, hist_kws={'edgecolor':'black'},\n",
        "             kde_kws={'linewidth':4})\n",
        "plt.legend(['Original data','Imputed Data'], prop={'size': 16}, title = 'Mean imputation')\n",
        "plt.tight_layout(), plt.show()"
      ],
      "execution_count": null,
      "outputs": [
        {
          "output_type": "stream",
          "text": [
            "/usr/local/lib/python3.6/dist-packages/seaborn/distributions.py:2551: FutureWarning: `distplot` is a deprecated function and will be removed in a future version. Please adapt your code to use either `displot` (a figure-level function with similar flexibility) or `histplot` (an axes-level function for histograms).\n",
            "  warnings.warn(msg, FutureWarning)\n",
            "/usr/local/lib/python3.6/dist-packages/seaborn/distributions.py:2551: FutureWarning: `distplot` is a deprecated function and will be removed in a future version. Please adapt your code to use either `displot` (a figure-level function with similar flexibility) or `histplot` (an axes-level function for histograms).\n",
            "  warnings.warn(msg, FutureWarning)\n"
          ],
          "name": "stderr"
        },
        {
          "output_type": "display_data",
          "data": {
            "image/png": "[encoded data removed]",
            "text/plain": [
              "<Figure size 432x288 with 1 Axes>"
            ]
          },
          "metadata": {
            "tags": [],
            "needs_background": "light"
          }
        },
        {
          "output_type": "execute_result",
          "data": {
            "text/plain": [
              "(None, None)"
            ]
          },
          "metadata": {
            "tags": []
          },
          "execution_count": 15
        }
      ]
    },
    {
      "cell_type": "markdown",
      "metadata": {
        "id": "K2WMwfYTNV7Q"
      },
      "source": [
        "## Mode imputation"
      ]
    },
    {
      "cell_type": "code",
      "metadata": {
        "id": "IQsB8SmmNMrJ",
        "outputId": "a45296f5-6737-43b5-ce1f-6f50f7846c63",
        "colab": {
          "base_uri": "https://localhost:8080/",
          "height": 108
        }
      },
      "source": [
        "impute_mode=SimpleImputer(strategy='most_frequent')\n",
        "impute_mode.fit(data)\n",
        "imputed_mode=impute_mode.transform(data)\n",
        "imputed_mode=pd.DataFrame(imputed_mode,columns=data.columns)\n",
        "imputed_mode.head(2)"
      ],
      "execution_count": null,
      "outputs": [
        {
          "output_type": "execute_result",
          "data": {
            "text/html": [
              "<div>\n",
              "<style scoped>\n",
              "    .dataframe tbody tr th:only-of-type {\n",
              "        vertical-align: middle;\n",
              "    }\n",
              "\n",
              "    .dataframe tbody tr th {\n",
              "        vertical-align: top;\n",
              "    }\n",
              "\n",
              "    .dataframe thead th {\n",
              "        text-align: right;\n",
              "    }\n",
              "</style>\n",
              "<table border=\"1\" class=\"dataframe\">\n",
              "  <thead>\n",
              "    <tr style=\"text-align: right;\">\n",
              "      <th></th>\n",
              "      <th>Quaternion_1</th>\n",
              "      <th>Quaternion_2</th>\n",
              "      <th>Quaternion_3</th>\n",
              "      <th>Quaternion_4</th>\n",
              "    </tr>\n",
              "  </thead>\n",
              "  <tbody>\n",
              "    <tr>\n",
              "      <th>0</th>\n",
              "      <td>-0.8797</td>\n",
              "      <td>0.0645</td>\n",
              "      <td>-0.0310</td>\n",
              "      <td>-0.7074</td>\n",
              "    </tr>\n",
              "    <tr>\n",
              "      <th>1</th>\n",
              "      <td>-0.8797</td>\n",
              "      <td>0.0645</td>\n",
              "      <td>0.0272</td>\n",
              "      <td>-0.7074</td>\n",
              "    </tr>\n",
              "  </tbody>\n",
              "</table>\n",
              "</div>"
            ],
            "text/plain": [
              "   Quaternion_1  Quaternion_2  Quaternion_3  Quaternion_4\n",
              "0       -0.8797        0.0645       -0.0310       -0.7074\n",
              "1       -0.8797        0.0645        0.0272       -0.7074"
            ]
          },
          "metadata": {
            "tags": []
          },
          "execution_count": 16
        }
      ]
    },
    {
      "cell_type": "code",
      "metadata": {
        "id": "7RNVoK9QNo3z",
        "outputId": "c0b20adc-f902-4841-ab5d-f3d1ba5873b1",
        "colab": {
          "base_uri": "https://localhost:8080/",
          "height": 408
        }
      },
      "source": [
        "sns.distplot(data['Quaternion_2'], hist=True, \n",
        "             kde=True, bins=90, hist_kws={'edgecolor':'black'},\n",
        "             kde_kws={'linewidth':4})\n",
        "\n",
        "sns.distplot(imputed_mode['Quaternion_2'], hist=True, \n",
        "             kde=True, bins=90, hist_kws={'edgecolor':'black'},\n",
        "             kde_kws={'linewidth':4})\n",
        "plt.legend(['Original data','Imputed Data'], prop={'size': 16}, title = 'Mode imputation')\n",
        "plt.tight_layout(), plt.show()"
      ],
      "execution_count": null,
      "outputs": [
        {
          "output_type": "stream",
          "text": [
            "/usr/local/lib/python3.6/dist-packages/seaborn/distributions.py:2551: FutureWarning: `distplot` is a deprecated function and will be removed in a future version. Please adapt your code to use either `displot` (a figure-level function with similar flexibility) or `histplot` (an axes-level function for histograms).\n",
            "  warnings.warn(msg, FutureWarning)\n",
            "/usr/local/lib/python3.6/dist-packages/seaborn/distributions.py:2551: FutureWarning: `distplot` is a deprecated function and will be removed in a future version. Please adapt your code to use either `displot` (a figure-level function with similar flexibility) or `histplot` (an axes-level function for histograms).\n",
            "  warnings.warn(msg, FutureWarning)\n"
          ],
          "name": "stderr"
        },
        {
          "output_type": "display_data",
          "data": {
            "image/png": "[encoded data removed]",
            "text/plain": [
              "<Figure size 432x288 with 1 Axes>"
            ]
          },
          "metadata": {
            "tags": [],
            "needs_background": "light"
          }
        },
        {
          "output_type": "execute_result",
          "data": {
            "text/plain": [
              "(None, None)"
            ]
          },
          "metadata": {
            "tags": []
          },
          "execution_count": 17
        }
      ]
    },
    {
      "cell_type": "markdown",
      "metadata": {
        "id": "8t2FZs-VOS0Y"
      },
      "source": [
        "##Model based imputation-KNN"
      ]
    },
    {
      "cell_type": "code",
      "metadata": {
        "id": "G_0_YJDyOSgR",
        "outputId": "1f20db2b-32fa-4793-f1b4-4d3c32f9be7c",
        "colab": {
          "base_uri": "https://localhost:8080/",
          "height": 74
        }
      },
      "source": [
        "impute_knn=fast_knn(data.values,k=30)"
      ],
      "execution_count": null,
      "outputs": [
        {
          "output_type": "stream",
          "text": [
            "/usr/local/lib/python3.6/dist-packages/impyute/imputation/cs/fast_knn.py:113: RuntimeWarning: invalid value encountered in true_divide\n",
            "  weights = distances/np.sum(distances)\n"
          ],
          "name": "stderr"
        }
      ]
    },
    {
      "cell_type": "code",
      "metadata": {
        "id": "jLec8oEbQFPp",
        "outputId": "7aa73ab1-ac40-48f1-d491-fcf0fa1379b4",
        "colab": {
          "base_uri": "https://localhost:8080/",
          "height": 108
        }
      },
      "source": [
        "imputed_knn=pd.DataFrame(impute_knn,columns=data.columns)\n",
        "imputed_knn.head(2)"
      ],
      "execution_count": null,
      "outputs": [
        {
          "output_type": "execute_result",
          "data": {
            "text/html": [
              "<div>\n",
              "<style scoped>\n",
              "    .dataframe tbody tr th:only-of-type {\n",
              "        vertical-align: middle;\n",
              "    }\n",
              "\n",
              "    .dataframe tbody tr th {\n",
              "        vertical-align: top;\n",
              "    }\n",
              "\n",
              "    .dataframe thead th {\n",
              "        text-align: right;\n",
              "    }\n",
              "</style>\n",
              "<table border=\"1\" class=\"dataframe\">\n",
              "  <thead>\n",
              "    <tr style=\"text-align: right;\">\n",
              "      <th></th>\n",
              "      <th>Quaternion_1</th>\n",
              "      <th>Quaternion_2</th>\n",
              "      <th>Quaternion_3</th>\n",
              "      <th>Quaternion_4</th>\n",
              "    </tr>\n",
              "  </thead>\n",
              "  <tbody>\n",
              "    <tr>\n",
              "      <th>0</th>\n",
              "      <td>-0.168971</td>\n",
              "      <td>-0.018938</td>\n",
              "      <td>-0.031000</td>\n",
              "      <td>-0.7074</td>\n",
              "    </tr>\n",
              "    <tr>\n",
              "      <th>1</th>\n",
              "      <td>-0.169096</td>\n",
              "      <td>-0.016983</td>\n",
              "      <td>-0.062347</td>\n",
              "      <td>-0.7074</td>\n",
              "    </tr>\n",
              "  </tbody>\n",
              "</table>\n",
              "</div>"
            ],
            "text/plain": [
              "   Quaternion_1  Quaternion_2  Quaternion_3  Quaternion_4\n",
              "0     -0.168971     -0.018938     -0.031000       -0.7074\n",
              "1     -0.169096     -0.016983     -0.062347       -0.7074"
            ]
          },
          "metadata": {
            "tags": []
          },
          "execution_count": 20
        }
      ]
    },
    {
      "cell_type": "code",
      "metadata": {
        "id": "DRstJio4PJe4",
        "outputId": "9add303f-ea2f-44de-a6a0-ef96aef6132f",
        "colab": {
          "base_uri": "https://localhost:8080/",
          "height": 408
        }
      },
      "source": [
        "sns.distplot(data['Quaternion_2'], hist=True, \n",
        "             kde=True, bins=90, hist_kws={'edgecolor':'black'},\n",
        "             kde_kws={'linewidth':4})\n",
        "\n",
        "sns.distplot(imputed_knn['Quaternion_2'], hist=True, \n",
        "             kde=True, bins=90, hist_kws={'edgecolor':'black'},\n",
        "             kde_kws={'linewidth':4})\n",
        "plt.legend(['Original data','Imputed Data'], prop={'size': 16}, title = 'knn imputation')\n",
        "plt.tight_layout(), plt.show()"
      ],
      "execution_count": null,
      "outputs": [
        {
          "output_type": "stream",
          "text": [
            "/usr/local/lib/python3.6/dist-packages/seaborn/distributions.py:2551: FutureWarning: `distplot` is a deprecated function and will be removed in a future version. Please adapt your code to use either `displot` (a figure-level function with similar flexibility) or `histplot` (an axes-level function for histograms).\n",
            "  warnings.warn(msg, FutureWarning)\n",
            "/usr/local/lib/python3.6/dist-packages/seaborn/distributions.py:2551: FutureWarning: `distplot` is a deprecated function and will be removed in a future version. Please adapt your code to use either `displot` (a figure-level function with similar flexibility) or `histplot` (an axes-level function for histograms).\n",
            "  warnings.warn(msg, FutureWarning)\n"
          ],
          "name": "stderr"
        },
        {
          "output_type": "display_data",
          "data": {
            "image/png": "[encoded data removed]",
            "text/plain": [
              "<Figure size 432x288 with 1 Axes>"
            ]
          },
          "metadata": {
            "tags": [],
            "needs_background": "light"
          }
        },
        {
          "output_type": "execute_result",
          "data": {
            "text/plain": [
              "(None, None)"
            ]
          },
          "metadata": {
            "tags": []
          },
          "execution_count": 21
        }
      ]
    },
    {
      "cell_type": "markdown",
      "metadata": {
        "id": "avhW8MsjQ1-L"
      },
      "source": [
        "## Regression imputation"
      ]
    },
    {
      "cell_type": "code",
      "metadata": {
        "id": "Uj4vANZ2Qyd2"
      },
      "source": [
        "#creating training and test data to apply regression model\n",
        "train=data.dropna(axis=0,how='any')\n",
        "test=data[(data['Quaternion_1'].notnull()) & \n",
        "          (data['Quaternion_3'].notnull()) & \n",
        "          (data['Quaternion_4'].notnull()) & \n",
        "          (data['Quaternion_2'].isnull())]\n",
        "x_train=train.drop('Quaternion_2',axis=1)\n",
        "y_train=train['Quaternion_2']\n",
        "x_test=test.drop('Quaternion_2',axis=1)\n",
        "model=LinearRegression()\n",
        "model.fit(x_train,y_train)\n",
        "y_pred=model.predict(x_test)\n"
      ],
      "execution_count": null,
      "outputs": []
    },
    {
      "cell_type": "code",
      "metadata": {
        "id": "Ed_LlapSTl4A",
        "outputId": "878eb7d8-de9f-4d49-8a87-5c86755ebe34",
        "colab": {
          "base_uri": "https://localhost:8080/",
          "height": 408
        }
      },
      "source": [
        "sns.distplot(data['Quaternion_2'], hist=True, \n",
        "             kde=True, bins=90, hist_kws={'edgecolor':'black'},\n",
        "             kde_kws={'linewidth':4})\n",
        "\n",
        "sns.distplot(y_pred, hist=True, \n",
        "             kde=True, bins=90, hist_kws={'edgecolor':'black'},\n",
        "             kde_kws={'linewidth':4})\n",
        "plt.legend(['Original data','Imputed Data'], prop={'size': 16}, title = 'regression imputation')\n",
        "plt.tight_layout(), plt.show()"
      ],
      "execution_count": null,
      "outputs": [
        {
          "output_type": "stream",
          "text": [
            "/usr/local/lib/python3.6/dist-packages/seaborn/distributions.py:2551: FutureWarning: `distplot` is a deprecated function and will be removed in a future version. Please adapt your code to use either `displot` (a figure-level function with similar flexibility) or `histplot` (an axes-level function for histograms).\n",
            "  warnings.warn(msg, FutureWarning)\n",
            "/usr/local/lib/python3.6/dist-packages/seaborn/distributions.py:2551: FutureWarning: `distplot` is a deprecated function and will be removed in a future version. Please adapt your code to use either `displot` (a figure-level function with similar flexibility) or `histplot` (an axes-level function for histograms).\n",
            "  warnings.warn(msg, FutureWarning)\n"
          ],
          "name": "stderr"
        },
        {
          "output_type": "display_data",
          "data": {
            "image/png": "[encoded data removed]",
            "text/plain": [
              "<Figure size 432x288 with 1 Axes>"
            ]
          },
          "metadata": {
            "tags": [],
            "needs_background": "light"
          }
        },
        {
          "output_type": "execute_result",
          "data": {
            "text/plain": [
              "(None, None)"
            ]
          },
          "metadata": {
            "tags": []
          },
          "execution_count": 23
        }
      ]
    },
    {
      "cell_type": "markdown",
      "metadata": {
        "id": "31GoXgItWU9b"
      },
      "source": [
        "##Multiple imputation-mice"
      ]
    },
    {
      "cell_type": "code",
      "metadata": {
        "id": "dp34ECTTWb15",
        "outputId": "fa194e3b-3a85-4fc2-9ed4-97e3b7ce4508",
        "colab": {
          "base_uri": "https://localhost:8080/",
          "height": 145
        }
      },
      "source": [
        "impute_mice = mice(data.values)\n",
        "impute_mice"
      ],
      "execution_count": 9,
      "outputs": [
        {
          "output_type": "execute_result",
          "data": {
            "text/plain": [
              "array([[-0.71196728,  0.08375458, -0.031     , -0.7074    ],\n",
              "       [-0.68568702,  0.00193441, -0.35177911, -0.7074    ],\n",
              "       [-0.7049    , -0.0053    , -0.031     ,  0.10074247],\n",
              "       ...,\n",
              "       [-0.2191    ,  0.0339    ,  0.0755    ,  0.9705    ],\n",
              "       [-0.239     ,  0.0556    , -0.0265    ,  0.9674    ],\n",
              "       [-0.0962936 ,  0.09449364, -0.02028637,  0.28517322]])"
            ]
          },
          "metadata": {
            "tags": []
          },
          "execution_count": 9
        }
      ]
    },
    {
      "cell_type": "code",
      "metadata": {
        "id": "lGnzXnl-YYQs",
        "outputId": "04dc0a6b-534f-450b-c60b-112231d2b3b0",
        "colab": {
          "base_uri": "https://localhost:8080/",
          "height": 408
        }
      },
      "source": [
        "sns.distplot(data['Quaternion_2'], hist=True, \n",
        "             kde=True, bins=90, hist_kws={'edgecolor':'black'},\n",
        "             kde_kws={'linewidth':4})\n",
        "\n",
        "sns.distplot(impute_mice[:,1], hist=True, \n",
        "             kde=True, bins=90, hist_kws={'edgecolor':'black'},\n",
        "             kde_kws={'linewidth':4})\n",
        "plt.legend(['Original data','Imputed Data'], prop={'size': 16}, title = 'mice')\n",
        "plt.tight_layout(), plt.show()"
      ],
      "execution_count": 10,
      "outputs": [
        {
          "output_type": "stream",
          "text": [
            "/usr/local/lib/python3.6/dist-packages/seaborn/distributions.py:2551: FutureWarning: `distplot` is a deprecated function and will be removed in a future version. Please adapt your code to use either `displot` (a figure-level function with similar flexibility) or `histplot` (an axes-level function for histograms).\n",
            "  warnings.warn(msg, FutureWarning)\n",
            "/usr/local/lib/python3.6/dist-packages/seaborn/distributions.py:2551: FutureWarning: `distplot` is a deprecated function and will be removed in a future version. Please adapt your code to use either `displot` (a figure-level function with similar flexibility) or `histplot` (an axes-level function for histograms).\n",
            "  warnings.warn(msg, FutureWarning)\n"
          ],
          "name": "stderr"
        },
        {
          "output_type": "display_data",
          "data": {
            "image/png": "[encoded data removed]",
            "text/plain": [
              "<Figure size 432x288 with 1 Axes>"
            ]
          },
          "metadata": {
            "tags": [],
            "needs_background": "light"
          }
        },
        {
          "output_type": "execute_result",
          "data": {
            "text/plain": [
              "(None, None)"
            ]
          },
          "metadata": {
            "tags": []
          },
          "execution_count": 10
        }
      ]
    },
    {
      "cell_type": "markdown",
      "metadata": {
        "id": "uqFSc2PET-T3"
      },
      "source": [
        "##Deep learning method-datawig"
      ]
    },
    {
      "cell_type": "code",
      "metadata": {
        "id": "KT2m3RkFT1MF",
        "outputId": "4a26d178-7a9d-470d-ba50-925e21cbdd9f",
        "colab": {
          "base_uri": "https://localhost:8080/",
          "height": 1000
        }
      },
      "source": [
        "input_cols = ['Quaternion_1', 'Quaternion_3', 'Quaternion_4']\n",
        "output_cols = 'Quaternion_2'\n",
        "\n",
        "model=datawig.SimpleImputer(input_columns=input_cols,\n",
        "                            output_column=output_cols,\n",
        "                            output_path = 'datawig_model'  #stores model data and metrics\n",
        ")\n",
        "model.fit(train_df=train,num_epochs=50)\n",
        "y_pred=model.predict(test)"
      ],
      "execution_count": null,
      "outputs": [
        {
          "output_type": "stream",
          "text": [
            "2020-10-13 09:42:09,678 [INFO]  \n",
            "========== start: fit model\n",
            "2020-10-13 09:42:09,680 [WARNING]  Already bound, ignoring bind()\n",
            "2020-10-13 09:42:10,486 [INFO]  Epoch[0] Batch [0-548]\tSpeed: 11021.30 samples/sec\tcross-entropy=13.612039\tQuaternion_2-accuracy=0.000000\n",
            "2020-10-13 09:42:11,297 [INFO]  Epoch[0] Train-cross-entropy=12.532577\n",
            "2020-10-13 09:42:11,299 [INFO]  Epoch[0] Train-Quaternion_2-accuracy=0.000000\n",
            "2020-10-13 09:42:11,303 [INFO]  Epoch[0] Time cost=1.616\n",
            "2020-10-13 09:42:11,312 [INFO]  Saved checkpoint to \"datawig_model/model-0000.params\"\n",
            "2020-10-13 09:42:11,381 [INFO]  Epoch[0] Validation-cross-entropy=10.014536\n",
            "2020-10-13 09:42:11,382 [INFO]  Epoch[0] Validation-Quaternion_2-accuracy=0.000000\n",
            "2020-10-13 09:42:12,144 [INFO]  Epoch[1] Batch [0-548]\tSpeed: 11566.77 samples/sec\tcross-entropy=9.675480\tQuaternion_2-accuracy=0.000000\n",
            "2020-10-13 09:42:12,892 [INFO]  Epoch[1] Train-cross-entropy=9.496761\n",
            "2020-10-13 09:42:12,893 [INFO]  Epoch[1] Train-Quaternion_2-accuracy=0.000000\n",
            "2020-10-13 09:42:12,897 [INFO]  Epoch[1] Time cost=1.515\n",
            "2020-10-13 09:42:12,903 [INFO]  Saved checkpoint to \"datawig_model/model-0001.params\"\n",
            "2020-10-13 09:42:12,976 [INFO]  Epoch[1] Validation-cross-entropy=9.055293\n",
            "2020-10-13 09:42:12,978 [INFO]  Epoch[1] Validation-Quaternion_2-accuracy=0.000000\n",
            "2020-10-13 09:42:13,720 [INFO]  Epoch[2] Batch [0-548]\tSpeed: 11888.21 samples/sec\tcross-entropy=8.673315\tQuaternion_2-accuracy=0.000000\n",
            "2020-10-13 09:42:14,508 [INFO]  Epoch[2] Train-cross-entropy=8.577491\n",
            "2020-10-13 09:42:14,509 [INFO]  Epoch[2] Train-Quaternion_2-accuracy=0.000000\n",
            "2020-10-13 09:42:14,513 [INFO]  Epoch[2] Time cost=1.533\n",
            "2020-10-13 09:42:14,521 [INFO]  Saved checkpoint to \"datawig_model/model-0002.params\"\n",
            "2020-10-13 09:42:14,595 [INFO]  Epoch[2] Validation-cross-entropy=8.745206\n",
            "2020-10-13 09:42:14,597 [INFO]  Epoch[2] Validation-Quaternion_2-accuracy=0.000000\n",
            "2020-10-13 09:42:15,362 [INFO]  Epoch[3] Batch [0-548]\tSpeed: 11533.78 samples/sec\tcross-entropy=8.150855\tQuaternion_2-accuracy=0.000000\n",
            "2020-10-13 09:42:16,142 [INFO]  Epoch[3] Train-cross-entropy=8.027595\n",
            "2020-10-13 09:42:16,143 [INFO]  Epoch[3] Train-Quaternion_2-accuracy=0.000000\n",
            "2020-10-13 09:42:16,144 [INFO]  Epoch[3] Time cost=1.545\n",
            "2020-10-13 09:42:16,159 [INFO]  Saved checkpoint to \"datawig_model/model-0003.params\"\n",
            "2020-10-13 09:42:16,230 [INFO]  Epoch[3] Validation-cross-entropy=8.453540\n",
            "2020-10-13 09:42:16,231 [INFO]  Epoch[3] Validation-Quaternion_2-accuracy=0.000000\n",
            "2020-10-13 09:42:16,999 [INFO]  Epoch[4] Batch [0-548]\tSpeed: 11527.50 samples/sec\tcross-entropy=7.732763\tQuaternion_2-accuracy=0.000000\n",
            "2020-10-13 09:42:17,774 [INFO]  Epoch[4] Train-cross-entropy=7.583921\n",
            "2020-10-13 09:42:17,775 [INFO]  Epoch[4] Train-Quaternion_2-accuracy=0.000000\n",
            "2020-10-13 09:42:17,776 [INFO]  Epoch[4] Time cost=1.541\n",
            "2020-10-13 09:42:17,784 [INFO]  Saved checkpoint to \"datawig_model/model-0004.params\"\n",
            "2020-10-13 09:42:17,865 [INFO]  Epoch[4] Validation-cross-entropy=8.157193\n",
            "2020-10-13 09:42:17,867 [INFO]  Epoch[4] Validation-Quaternion_2-accuracy=0.000000\n",
            "2020-10-13 09:42:18,592 [INFO]  Epoch[5] Batch [0-548]\tSpeed: 12188.35 samples/sec\tcross-entropy=7.389016\tQuaternion_2-accuracy=0.000000\n",
            "2020-10-13 09:42:19,365 [INFO]  Epoch[5] Train-cross-entropy=7.213713\n",
            "2020-10-13 09:42:19,366 [INFO]  Epoch[5] Train-Quaternion_2-accuracy=0.000000\n",
            "2020-10-13 09:42:19,367 [INFO]  Epoch[5] Time cost=1.499\n",
            "2020-10-13 09:42:19,385 [INFO]  Saved checkpoint to \"datawig_model/model-0005.params\"\n",
            "2020-10-13 09:42:19,466 [INFO]  Epoch[5] Validation-cross-entropy=7.912430\n",
            "2020-10-13 09:42:19,468 [INFO]  Epoch[5] Validation-Quaternion_2-accuracy=0.000000\n",
            "2020-10-13 09:42:20,407 [INFO]  Epoch[6] Batch [0-548]\tSpeed: 9440.74 samples/sec\tcross-entropy=7.109016\tQuaternion_2-accuracy=0.000000\n",
            "2020-10-13 09:42:21,392 [INFO]  Epoch[6] Train-cross-entropy=6.903480\n",
            "2020-10-13 09:42:21,393 [INFO]  Epoch[6] Train-Quaternion_2-accuracy=0.000000\n",
            "2020-10-13 09:42:21,394 [INFO]  Epoch[6] Time cost=1.921\n",
            "2020-10-13 09:42:21,412 [INFO]  Saved checkpoint to \"datawig_model/model-0006.params\"\n",
            "2020-10-13 09:42:21,482 [INFO]  Epoch[6] Validation-cross-entropy=7.736395\n",
            "2020-10-13 09:42:21,484 [INFO]  Epoch[6] Validation-Quaternion_2-accuracy=0.000000\n",
            "2020-10-13 09:42:22,503 [INFO]  Epoch[7] Batch [0-548]\tSpeed: 8661.75 samples/sec\tcross-entropy=6.852473\tQuaternion_2-accuracy=0.000000\n",
            "2020-10-13 09:42:23,433 [INFO]  Epoch[7] Train-cross-entropy=6.623171\n",
            "2020-10-13 09:42:23,434 [INFO]  Epoch[7] Train-Quaternion_2-accuracy=0.000000\n",
            "2020-10-13 09:42:23,440 [INFO]  Epoch[7] Time cost=1.952\n",
            "2020-10-13 09:42:23,457 [INFO]  Saved checkpoint to \"datawig_model/model-0007.params\"\n",
            "2020-10-13 09:42:23,541 [INFO]  Epoch[7] Validation-cross-entropy=7.501525\n",
            "2020-10-13 09:42:23,542 [INFO]  Epoch[7] Validation-Quaternion_2-accuracy=0.000000\n",
            "2020-10-13 09:42:24,334 [INFO]  Epoch[8] Batch [0-548]\tSpeed: 11224.16 samples/sec\tcross-entropy=6.631263\tQuaternion_2-accuracy=0.000000\n",
            "2020-10-13 09:42:25,086 [INFO]  Epoch[8] Train-cross-entropy=6.388373\n",
            "2020-10-13 09:42:25,088 [INFO]  Epoch[8] Train-Quaternion_2-accuracy=0.000000\n",
            "2020-10-13 09:42:25,091 [INFO]  Epoch[8] Time cost=1.548\n",
            "2020-10-13 09:42:25,103 [INFO]  Saved checkpoint to \"datawig_model/model-0008.params\"\n",
            "2020-10-13 09:42:25,169 [INFO]  Epoch[8] Validation-cross-entropy=7.290157\n",
            "2020-10-13 09:42:25,170 [INFO]  Epoch[8] Validation-Quaternion_2-accuracy=0.000000\n",
            "2020-10-13 09:42:25,913 [INFO]  Epoch[9] Batch [0-548]\tSpeed: 11918.38 samples/sec\tcross-entropy=6.448524\tQuaternion_2-accuracy=0.000000\n",
            "2020-10-13 09:42:26,664 [INFO]  Epoch[9] Train-cross-entropy=6.210815\n",
            "2020-10-13 09:42:26,666 [INFO]  Epoch[9] Train-Quaternion_2-accuracy=0.000000\n",
            "2020-10-13 09:42:26,670 [INFO]  Epoch[9] Time cost=1.499\n",
            "2020-10-13 09:42:26,675 [INFO]  Saved checkpoint to \"datawig_model/model-0009.params\"\n",
            "2020-10-13 09:42:26,741 [INFO]  Epoch[9] Validation-cross-entropy=7.074299\n",
            "2020-10-13 09:42:26,742 [INFO]  Epoch[9] Validation-Quaternion_2-accuracy=0.000000\n",
            "2020-10-13 09:42:27,494 [INFO]  Epoch[10] Batch [0-548]\tSpeed: 11735.01 samples/sec\tcross-entropy=6.304376\tQuaternion_2-accuracy=0.000000\n",
            "2020-10-13 09:42:28,278 [INFO]  Epoch[10] Train-cross-entropy=6.058906\n",
            "2020-10-13 09:42:28,280 [INFO]  Epoch[10] Train-Quaternion_2-accuracy=0.000000\n",
            "2020-10-13 09:42:28,284 [INFO]  Epoch[10] Time cost=1.542\n",
            "2020-10-13 09:42:28,290 [INFO]  Saved checkpoint to \"datawig_model/model-0010.params\"\n",
            "2020-10-13 09:42:28,369 [INFO]  Epoch[10] Validation-cross-entropy=6.804956\n",
            "2020-10-13 09:42:28,370 [INFO]  Epoch[10] Validation-Quaternion_2-accuracy=0.000000\n",
            "2020-10-13 09:42:29,175 [INFO]  Epoch[11] Batch [0-548]\tSpeed: 10993.90 samples/sec\tcross-entropy=6.178188\tQuaternion_2-accuracy=0.000000\n",
            "2020-10-13 09:42:29,924 [INFO]  Epoch[11] Train-cross-entropy=5.933088\n",
            "2020-10-13 09:42:29,926 [INFO]  Epoch[11] Train-Quaternion_2-accuracy=0.000000\n",
            "2020-10-13 09:42:29,928 [INFO]  Epoch[11] Time cost=1.557\n",
            "2020-10-13 09:42:29,935 [INFO]  Saved checkpoint to \"datawig_model/model-0011.params\"\n",
            "2020-10-13 09:42:30,019 [INFO]  Epoch[11] Validation-cross-entropy=6.585604\n",
            "2020-10-13 09:42:30,020 [INFO]  Epoch[11] Validation-Quaternion_2-accuracy=0.000000\n",
            "2020-10-13 09:42:30,753 [INFO]  Epoch[12] Batch [0-548]\tSpeed: 12116.29 samples/sec\tcross-entropy=6.076199\tQuaternion_2-accuracy=0.000000\n",
            "2020-10-13 09:42:31,515 [INFO]  Epoch[12] Train-cross-entropy=5.831793\n",
            "2020-10-13 09:42:31,516 [INFO]  Epoch[12] Train-Quaternion_2-accuracy=0.000000\n",
            "2020-10-13 09:42:31,517 [INFO]  Epoch[12] Time cost=1.491\n",
            "2020-10-13 09:42:31,530 [INFO]  Saved checkpoint to \"datawig_model/model-0012.params\"\n",
            "2020-10-13 09:42:31,611 [INFO]  Epoch[12] Validation-cross-entropy=6.458446\n",
            "2020-10-13 09:42:31,612 [INFO]  Epoch[12] Validation-Quaternion_2-accuracy=0.000000\n",
            "2020-10-13 09:42:32,410 [INFO]  Epoch[13] Batch [0-548]\tSpeed: 11119.88 samples/sec\tcross-entropy=6.001991\tQuaternion_2-accuracy=0.000000\n",
            "2020-10-13 09:42:33,165 [INFO]  Epoch[13] Train-cross-entropy=5.752664\n",
            "2020-10-13 09:42:33,166 [INFO]  Epoch[13] Train-Quaternion_2-accuracy=0.000000\n",
            "2020-10-13 09:42:33,170 [INFO]  Epoch[13] Time cost=1.550\n",
            "2020-10-13 09:42:33,181 [INFO]  Saved checkpoint to \"datawig_model/model-0013.params\"\n",
            "2020-10-13 09:42:33,250 [INFO]  Epoch[13] Validation-cross-entropy=6.333688\n",
            "2020-10-13 09:42:33,252 [INFO]  Epoch[13] Validation-Quaternion_2-accuracy=0.000000\n",
            "2020-10-13 09:42:34,025 [INFO]  Epoch[14] Batch [0-548]\tSpeed: 11438.15 samples/sec\tcross-entropy=5.929712\tQuaternion_2-accuracy=0.000000\n",
            "2020-10-13 09:42:34,794 [INFO]  Epoch[14] Train-cross-entropy=5.678533\n",
            "2020-10-13 09:42:34,796 [INFO]  Epoch[14] Train-Quaternion_2-accuracy=0.000000\n",
            "2020-10-13 09:42:34,800 [INFO]  Epoch[14] Time cost=1.545\n",
            "2020-10-13 09:42:34,810 [INFO]  Saved checkpoint to \"datawig_model/model-0014.params\"\n",
            "2020-10-13 09:42:34,880 [INFO]  Epoch[14] Validation-cross-entropy=6.207194\n",
            "2020-10-13 09:42:34,882 [INFO]  Epoch[14] Validation-Quaternion_2-accuracy=0.000000\n",
            "2020-10-13 09:42:35,652 [INFO]  Epoch[15] Batch [0-548]\tSpeed: 11474.90 samples/sec\tcross-entropy=5.866765\tQuaternion_2-accuracy=0.000000\n",
            "2020-10-13 09:42:36,471 [INFO]  Epoch[15] Train-cross-entropy=5.611427\n",
            "2020-10-13 09:42:36,472 [INFO]  Epoch[15] Train-Quaternion_2-accuracy=0.000000\n",
            "2020-10-13 09:42:36,473 [INFO]  Epoch[15] Time cost=1.590\n",
            "2020-10-13 09:42:36,482 [INFO]  Saved checkpoint to \"datawig_model/model-0015.params\"\n",
            "2020-10-13 09:42:36,547 [INFO]  Epoch[15] Validation-cross-entropy=6.144152\n",
            "2020-10-13 09:42:36,548 [INFO]  Epoch[15] Validation-Quaternion_2-accuracy=0.000000\n",
            "2020-10-13 09:42:37,312 [INFO]  Epoch[16] Batch [0-548]\tSpeed: 11592.80 samples/sec\tcross-entropy=5.808806\tQuaternion_2-accuracy=0.000000\n",
            "2020-10-13 09:42:38,210 [INFO]  Epoch[16] Train-cross-entropy=5.551794\n",
            "2020-10-13 09:42:38,212 [INFO]  Epoch[16] Train-Quaternion_2-accuracy=0.000000\n",
            "2020-10-13 09:42:38,214 [INFO]  Epoch[16] Time cost=1.663\n",
            "2020-10-13 09:42:38,226 [INFO]  Saved checkpoint to \"datawig_model/model-0016.params\"\n",
            "2020-10-13 09:42:38,321 [INFO]  Epoch[16] Validation-cross-entropy=6.114305\n",
            "2020-10-13 09:42:38,323 [INFO]  Epoch[16] Validation-Quaternion_2-accuracy=0.000000\n",
            "2020-10-13 09:42:39,313 [INFO]  Epoch[17] Batch [0-548]\tSpeed: 8954.80 samples/sec\tcross-entropy=5.765126\tQuaternion_2-accuracy=0.000000\n",
            "2020-10-13 09:42:40,085 [INFO]  Epoch[17] Train-cross-entropy=5.504021\n",
            "2020-10-13 09:42:40,086 [INFO]  Epoch[17] Train-Quaternion_2-accuracy=0.000000\n",
            "2020-10-13 09:42:40,087 [INFO]  Epoch[17] Time cost=1.755\n",
            "2020-10-13 09:42:40,093 [INFO]  Saved checkpoint to \"datawig_model/model-0017.params\"\n",
            "2020-10-13 09:42:40,179 [INFO]  Epoch[17] Validation-cross-entropy=6.061554\n",
            "2020-10-13 09:42:40,181 [INFO]  Epoch[17] Validation-Quaternion_2-accuracy=0.000000\n",
            "2020-10-13 09:42:40,978 [INFO]  Epoch[18] Batch [0-548]\tSpeed: 11083.64 samples/sec\tcross-entropy=5.716014\tQuaternion_2-accuracy=0.000000\n",
            "2020-10-13 09:42:41,790 [INFO]  Epoch[18] Train-cross-entropy=5.456643\n",
            "2020-10-13 09:42:41,791 [INFO]  Epoch[18] Train-Quaternion_2-accuracy=0.000000\n",
            "2020-10-13 09:42:41,794 [INFO]  Epoch[18] Time cost=1.611\n",
            "2020-10-13 09:42:41,800 [INFO]  Saved checkpoint to \"datawig_model/model-0018.params\"\n",
            "2020-10-13 09:42:41,877 [INFO]  Epoch[18] Validation-cross-entropy=6.036262\n",
            "2020-10-13 09:42:41,879 [INFO]  Epoch[18] Validation-Quaternion_2-accuracy=0.000000\n",
            "2020-10-13 09:42:42,625 [INFO]  Epoch[19] Batch [0-548]\tSpeed: 11890.97 samples/sec\tcross-entropy=5.680023\tQuaternion_2-accuracy=0.000000\n",
            "2020-10-13 09:42:43,395 [INFO]  Epoch[19] Train-cross-entropy=5.421031\n",
            "2020-10-13 09:42:43,398 [INFO]  Epoch[19] Train-Quaternion_2-accuracy=0.000000\n",
            "2020-10-13 09:42:43,400 [INFO]  Epoch[19] Time cost=1.517\n",
            "2020-10-13 09:42:43,405 [INFO]  Saved checkpoint to \"datawig_model/model-0019.params\"\n",
            "2020-10-13 09:42:43,473 [INFO]  Epoch[19] Validation-cross-entropy=5.986861\n",
            "2020-10-13 09:42:43,475 [INFO]  Epoch[19] Validation-Quaternion_2-accuracy=0.000000\n",
            "2020-10-13 09:42:44,221 [INFO]  Epoch[20] Batch [0-548]\tSpeed: 11922.38 samples/sec\tcross-entropy=5.646974\tQuaternion_2-accuracy=0.000000\n",
            "2020-10-13 09:42:45,113 [INFO]  Epoch[20] Train-cross-entropy=5.390280\n",
            "2020-10-13 09:42:45,115 [INFO]  Epoch[20] Train-Quaternion_2-accuracy=0.000000\n",
            "2020-10-13 09:42:45,118 [INFO]  Epoch[20] Time cost=1.639\n",
            "2020-10-13 09:42:45,124 [INFO]  Saved checkpoint to \"datawig_model/model-0020.params\"\n",
            "2020-10-13 09:42:45,191 [INFO]  Epoch[20] Validation-cross-entropy=5.939487\n",
            "2020-10-13 09:42:45,193 [INFO]  Epoch[20] Validation-Quaternion_2-accuracy=0.000000\n",
            "2020-10-13 09:42:45,968 [INFO]  Epoch[21] Batch [0-548]\tSpeed: 11418.82 samples/sec\tcross-entropy=5.615234\tQuaternion_2-accuracy=0.000000\n",
            "2020-10-13 09:42:46,689 [INFO]  Epoch[21] Train-cross-entropy=5.360365\n",
            "2020-10-13 09:42:46,690 [INFO]  Epoch[21] Train-Quaternion_2-accuracy=0.000000\n",
            "2020-10-13 09:42:46,695 [INFO]  Epoch[21] Time cost=1.500\n",
            "2020-10-13 09:42:46,704 [INFO]  Saved checkpoint to \"datawig_model/model-0021.params\"\n",
            "2020-10-13 09:42:46,773 [INFO]  Epoch[21] Validation-cross-entropy=5.891934\n",
            "2020-10-13 09:42:46,775 [INFO]  Epoch[21] Validation-Quaternion_2-accuracy=0.000000\n",
            "2020-10-13 09:42:47,494 [INFO]  Epoch[22] Batch [0-548]\tSpeed: 12259.88 samples/sec\tcross-entropy=5.600834\tQuaternion_2-accuracy=0.000000\n",
            "2020-10-13 09:42:48,200 [INFO]  Epoch[22] Train-cross-entropy=5.339707\n",
            "2020-10-13 09:42:48,203 [INFO]  Epoch[22] Train-Quaternion_2-accuracy=0.000000\n",
            "2020-10-13 09:42:48,207 [INFO]  Epoch[22] Time cost=1.431\n",
            "2020-10-13 09:42:48,216 [INFO]  Saved checkpoint to \"datawig_model/model-0022.params\"\n",
            "2020-10-13 09:42:48,287 [INFO]  Epoch[22] Validation-cross-entropy=5.869039\n",
            "2020-10-13 09:42:48,290 [INFO]  Epoch[22] Validation-Quaternion_2-accuracy=0.000000\n",
            "2020-10-13 09:42:49,150 [INFO]  Epoch[23] Batch [0-548]\tSpeed: 10293.36 samples/sec\tcross-entropy=5.579814\tQuaternion_2-accuracy=0.000000\n",
            "2020-10-13 09:42:49,978 [INFO]  Epoch[23] Train-cross-entropy=5.319192\n",
            "2020-10-13 09:42:49,979 [INFO]  Epoch[23] Train-Quaternion_2-accuracy=0.000000\n",
            "2020-10-13 09:42:49,984 [INFO]  Epoch[23] Time cost=1.692\n",
            "2020-10-13 09:42:49,989 [INFO]  Saved checkpoint to \"datawig_model/model-0023.params\"\n",
            "2020-10-13 09:42:50,073 [INFO]  Epoch[23] Validation-cross-entropy=5.822862\n",
            "2020-10-13 09:42:50,074 [INFO]  Epoch[23] Validation-Quaternion_2-accuracy=0.000000\n",
            "2020-10-13 09:42:50,912 [INFO]  Epoch[24] Batch [0-548]\tSpeed: 10532.89 samples/sec\tcross-entropy=5.560344\tQuaternion_2-accuracy=0.000000\n",
            "2020-10-13 09:42:51,820 [INFO]  Epoch[24] Train-cross-entropy=5.298022\n",
            "2020-10-13 09:42:51,822 [INFO]  Epoch[24] Train-Quaternion_2-accuracy=0.000000\n",
            "2020-10-13 09:42:51,827 [INFO]  Epoch[24] Time cost=1.753\n",
            "2020-10-13 09:42:51,833 [INFO]  Saved checkpoint to \"datawig_model/model-0024.params\"\n",
            "2020-10-13 09:42:51,906 [INFO]  Epoch[24] Validation-cross-entropy=5.812350\n",
            "2020-10-13 09:42:51,908 [INFO]  Epoch[24] Validation-Quaternion_2-accuracy=0.000000\n",
            "2020-10-13 09:42:52,752 [INFO]  Epoch[25] Batch [0-548]\tSpeed: 10465.21 samples/sec\tcross-entropy=5.542815\tQuaternion_2-accuracy=0.000000\n",
            "2020-10-13 09:42:53,613 [INFO]  Epoch[25] Train-cross-entropy=5.280962\n",
            "2020-10-13 09:42:53,614 [INFO]  Epoch[25] Train-Quaternion_2-accuracy=0.000000\n",
            "2020-10-13 09:42:53,620 [INFO]  Epoch[25] Time cost=1.711\n",
            "2020-10-13 09:42:53,629 [INFO]  Saved checkpoint to \"datawig_model/model-0025.params\"\n",
            "2020-10-13 09:42:53,712 [INFO]  Epoch[25] Validation-cross-entropy=5.804676\n",
            "2020-10-13 09:42:53,716 [INFO]  Epoch[25] Validation-Quaternion_2-accuracy=0.000000\n",
            "2020-10-13 09:42:54,569 [INFO]  Epoch[26] Batch [0-548]\tSpeed: 10360.83 samples/sec\tcross-entropy=5.533108\tQuaternion_2-accuracy=0.000000\n",
            "2020-10-13 09:42:55,385 [INFO]  Epoch[26] Train-cross-entropy=5.271327\n",
            "2020-10-13 09:42:55,386 [INFO]  Epoch[26] Train-Quaternion_2-accuracy=0.000000\n",
            "2020-10-13 09:42:55,389 [INFO]  Epoch[26] Time cost=1.670\n",
            "2020-10-13 09:42:55,404 [INFO]  Saved checkpoint to \"datawig_model/model-0026.params\"\n",
            "2020-10-13 09:42:55,477 [INFO]  Epoch[26] Validation-cross-entropy=5.766449\n",
            "2020-10-13 09:42:55,479 [INFO]  Epoch[26] Validation-Quaternion_2-accuracy=0.000000\n",
            "2020-10-13 09:42:56,317 [INFO]  Epoch[27] Batch [0-548]\tSpeed: 10549.01 samples/sec\tcross-entropy=5.517216\tQuaternion_2-accuracy=0.000000\n",
            "2020-10-13 09:42:57,135 [INFO]  Epoch[27] Train-cross-entropy=5.255924\n",
            "2020-10-13 09:42:57,137 [INFO]  Epoch[27] Train-Quaternion_2-accuracy=0.000000\n",
            "2020-10-13 09:42:57,148 [INFO]  Epoch[27] Time cost=1.664\n",
            "2020-10-13 09:42:57,152 [INFO]  Saved checkpoint to \"datawig_model/model-0027.params\"\n",
            "2020-10-13 09:42:57,223 [INFO]  Epoch[27] Validation-cross-entropy=5.749048\n",
            "2020-10-13 09:42:57,224 [INFO]  Epoch[27] Validation-Quaternion_2-accuracy=0.000000\n",
            "2020-10-13 09:42:58,072 [INFO]  Epoch[28] Batch [0-548]\tSpeed: 10438.81 samples/sec\tcross-entropy=5.489668\tQuaternion_2-accuracy=0.000000\n",
            "2020-10-13 09:42:58,901 [INFO]  Epoch[28] Train-cross-entropy=5.232565\n",
            "2020-10-13 09:42:58,902 [INFO]  Epoch[28] Train-Quaternion_2-accuracy=0.000000\n",
            "2020-10-13 09:42:58,903 [INFO]  Epoch[28] Time cost=1.677\n",
            "2020-10-13 09:42:58,918 [INFO]  Saved checkpoint to \"datawig_model/model-0028.params\"\n",
            "2020-10-13 09:42:58,986 [INFO]  Epoch[28] Validation-cross-entropy=5.734718\n",
            "2020-10-13 09:42:58,987 [INFO]  Epoch[28] Validation-Quaternion_2-accuracy=0.000000\n",
            "2020-10-13 09:42:59,743 [INFO]  Epoch[29] Batch [0-548]\tSpeed: 11686.48 samples/sec\tcross-entropy=5.472783\tQuaternion_2-accuracy=0.000000\n",
            "2020-10-13 09:43:00,531 [INFO]  Epoch[29] Train-cross-entropy=5.218120\n",
            "2020-10-13 09:43:00,533 [INFO]  Epoch[29] Train-Quaternion_2-accuracy=0.000000\n",
            "2020-10-13 09:43:00,535 [INFO]  Epoch[29] Time cost=1.547\n",
            "2020-10-13 09:43:00,541 [INFO]  Saved checkpoint to \"datawig_model/model-0029.params\"\n",
            "2020-10-13 09:43:00,610 [INFO]  Epoch[29] Validation-cross-entropy=5.703363\n",
            "2020-10-13 09:43:00,612 [INFO]  Epoch[29] Validation-Quaternion_2-accuracy=0.000000\n",
            "2020-10-13 09:43:01,483 [INFO]  Epoch[30] Batch [0-548]\tSpeed: 10155.85 samples/sec\tcross-entropy=5.460568\tQuaternion_2-accuracy=0.000000\n",
            "2020-10-13 09:43:02,296 [INFO]  Epoch[30] Train-cross-entropy=5.199766\n",
            "2020-10-13 09:43:02,299 [INFO]  Epoch[30] Train-Quaternion_2-accuracy=0.000000\n",
            "2020-10-13 09:43:02,300 [INFO]  Epoch[30] Time cost=1.686\n",
            "2020-10-13 09:43:02,305 [INFO]  Saved checkpoint to \"datawig_model/model-0030.params\"\n",
            "2020-10-13 09:43:02,380 [INFO]  Epoch[30] Validation-cross-entropy=5.700906\n",
            "2020-10-13 09:43:02,381 [INFO]  Epoch[30] Validation-Quaternion_2-accuracy=0.000000\n",
            "2020-10-13 09:43:03,223 [INFO]  Epoch[31] Batch [0-548]\tSpeed: 10507.77 samples/sec\tcross-entropy=5.438076\tQuaternion_2-accuracy=0.000000\n",
            "2020-10-13 09:43:04,018 [INFO]  Epoch[31] Train-cross-entropy=5.183554\n",
            "2020-10-13 09:43:04,021 [INFO]  Epoch[31] Train-Quaternion_2-accuracy=0.000000\n",
            "2020-10-13 09:43:04,023 [INFO]  Epoch[31] Time cost=1.639\n",
            "2020-10-13 09:43:04,032 [INFO]  Saved checkpoint to \"datawig_model/model-0031.params\"\n",
            "2020-10-13 09:43:04,104 [INFO]  Epoch[31] Validation-cross-entropy=5.686752\n",
            "2020-10-13 09:43:04,106 [INFO]  Epoch[31] Validation-Quaternion_2-accuracy=0.000000\n",
            "2020-10-13 09:43:04,868 [INFO]  Epoch[32] Batch [0-548]\tSpeed: 11612.54 samples/sec\tcross-entropy=5.423162\tQuaternion_2-accuracy=0.000000\n",
            "2020-10-13 09:43:05,614 [INFO]  Epoch[32] Train-cross-entropy=5.166840\n",
            "2020-10-13 09:43:05,615 [INFO]  Epoch[32] Train-Quaternion_2-accuracy=0.000000\n",
            "2020-10-13 09:43:05,619 [INFO]  Epoch[32] Time cost=1.511\n",
            "2020-10-13 09:43:05,625 [INFO]  Saved checkpoint to \"datawig_model/model-0032.params\"\n",
            "2020-10-13 09:43:05,700 [INFO]  Epoch[32] Validation-cross-entropy=5.653479\n",
            "2020-10-13 09:43:05,701 [INFO]  Epoch[32] Validation-Quaternion_2-accuracy=0.000000\n",
            "2020-10-13 09:43:06,492 [INFO]  Epoch[33] Batch [0-548]\tSpeed: 11165.66 samples/sec\tcross-entropy=5.414570\tQuaternion_2-accuracy=0.000000\n",
            "2020-10-13 09:43:07,244 [INFO]  Epoch[33] Train-cross-entropy=5.155711\n",
            "2020-10-13 09:43:07,246 [INFO]  Epoch[33] Train-Quaternion_2-accuracy=0.000000\n",
            "2020-10-13 09:43:07,250 [INFO]  Epoch[33] Time cost=1.546\n",
            "2020-10-13 09:43:07,257 [INFO]  Saved checkpoint to \"datawig_model/model-0033.params\"\n",
            "2020-10-13 09:43:07,322 [INFO]  Epoch[33] Validation-cross-entropy=5.644591\n",
            "2020-10-13 09:43:07,324 [INFO]  Epoch[33] Validation-Quaternion_2-accuracy=0.000000\n",
            "2020-10-13 09:43:08,083 [INFO]  Epoch[34] Batch [0-548]\tSpeed: 11674.52 samples/sec\tcross-entropy=5.399251\tQuaternion_2-accuracy=0.000000\n",
            "2020-10-13 09:43:08,846 [INFO]  Epoch[34] Train-cross-entropy=5.143708\n",
            "2020-10-13 09:43:08,847 [INFO]  Epoch[34] Train-Quaternion_2-accuracy=0.000000\n",
            "2020-10-13 09:43:08,849 [INFO]  Epoch[34] Time cost=1.524\n",
            "2020-10-13 09:43:08,854 [INFO]  Saved checkpoint to \"datawig_model/model-0034.params\"\n",
            "2020-10-13 09:43:08,921 [INFO]  Epoch[34] Validation-cross-entropy=5.597173\n",
            "2020-10-13 09:43:08,923 [INFO]  Epoch[34] Validation-Quaternion_2-accuracy=0.000000\n",
            "2020-10-13 09:43:09,661 [INFO]  Epoch[35] Batch [0-548]\tSpeed: 12011.53 samples/sec\tcross-entropy=5.388570\tQuaternion_2-accuracy=0.000000\n",
            "2020-10-13 09:43:10,387 [INFO]  Epoch[35] Train-cross-entropy=5.134114\n",
            "2020-10-13 09:43:10,388 [INFO]  Epoch[35] Train-Quaternion_2-accuracy=0.000000\n",
            "2020-10-13 09:43:10,391 [INFO]  Epoch[35] Time cost=1.467\n",
            "2020-10-13 09:43:10,397 [INFO]  Saved checkpoint to \"datawig_model/model-0035.params\"\n",
            "2020-10-13 09:43:10,463 [INFO]  Epoch[35] Validation-cross-entropy=5.594632\n",
            "2020-10-13 09:43:10,464 [INFO]  Epoch[35] Validation-Quaternion_2-accuracy=0.000000\n",
            "2020-10-13 09:43:11,203 [INFO]  Epoch[36] Batch [0-548]\tSpeed: 11992.39 samples/sec\tcross-entropy=5.372596\tQuaternion_2-accuracy=0.000000\n",
            "2020-10-13 09:43:11,973 [INFO]  Epoch[36] Train-cross-entropy=5.120264\n",
            "2020-10-13 09:43:11,975 [INFO]  Epoch[36] Train-Quaternion_2-accuracy=0.000000\n",
            "2020-10-13 09:43:11,978 [INFO]  Epoch[36] Time cost=1.511\n",
            "2020-10-13 09:43:11,985 [INFO]  Saved checkpoint to \"datawig_model/model-0036.params\"\n",
            "2020-10-13 09:43:12,061 [INFO]  Epoch[36] Validation-cross-entropy=5.561125\n",
            "2020-10-13 09:43:12,063 [INFO]  Epoch[36] Validation-Quaternion_2-accuracy=0.000000\n",
            "2020-10-13 09:43:12,809 [INFO]  Epoch[37] Batch [0-548]\tSpeed: 11956.92 samples/sec\tcross-entropy=5.363570\tQuaternion_2-accuracy=0.000000\n",
            "2020-10-13 09:43:13,578 [INFO]  Epoch[37] Train-cross-entropy=5.109167\n",
            "2020-10-13 09:43:13,579 [INFO]  Epoch[37] Train-Quaternion_2-accuracy=0.000000\n",
            "2020-10-13 09:43:13,584 [INFO]  Epoch[37] Time cost=1.520\n",
            "2020-10-13 09:43:13,589 [INFO]  Saved checkpoint to \"datawig_model/model-0037.params\"\n",
            "2020-10-13 09:43:13,656 [INFO]  Epoch[37] Validation-cross-entropy=5.559172\n",
            "2020-10-13 09:43:13,657 [INFO]  Epoch[37] Validation-Quaternion_2-accuracy=0.000000\n",
            "2020-10-13 09:43:14,457 [INFO]  Epoch[38] Batch [0-548]\tSpeed: 11130.46 samples/sec\tcross-entropy=5.345529\tQuaternion_2-accuracy=0.000000\n",
            "2020-10-13 09:43:15,199 [INFO]  Epoch[38] Train-cross-entropy=5.092491\n",
            "2020-10-13 09:43:15,200 [INFO]  Epoch[38] Train-Quaternion_2-accuracy=0.000000\n",
            "2020-10-13 09:43:15,204 [INFO]  Epoch[38] Time cost=1.546\n",
            "2020-10-13 09:43:15,215 [INFO]  Saved checkpoint to \"datawig_model/model-0038.params\"\n",
            "2020-10-13 09:43:15,295 [INFO]  Epoch[38] Validation-cross-entropy=5.506928\n",
            "2020-10-13 09:43:15,296 [INFO]  Epoch[38] Validation-Quaternion_2-accuracy=0.000000\n",
            "2020-10-13 09:43:16,043 [INFO]  Epoch[39] Batch [0-548]\tSpeed: 11875.96 samples/sec\tcross-entropy=5.326961\tQuaternion_2-accuracy=0.000000\n",
            "2020-10-13 09:43:16,824 [INFO]  Epoch[39] Train-cross-entropy=5.078090\n",
            "2020-10-13 09:43:16,825 [INFO]  Epoch[39] Train-Quaternion_2-accuracy=0.000000\n",
            "2020-10-13 09:43:16,828 [INFO]  Epoch[39] Time cost=1.529\n",
            "2020-10-13 09:43:16,836 [INFO]  Saved checkpoint to \"datawig_model/model-0039.params\"\n",
            "2020-10-13 09:43:16,915 [INFO]  Epoch[39] Validation-cross-entropy=5.508999\n",
            "2020-10-13 09:43:16,917 [INFO]  Epoch[39] Validation-Quaternion_2-accuracy=0.000000\n",
            "2020-10-13 09:43:17,808 [INFO]  Epoch[40] Batch [0-548]\tSpeed: 9977.29 samples/sec\tcross-entropy=5.314501\tQuaternion_2-accuracy=0.000000\n",
            "2020-10-13 09:43:18,535 [INFO]  Epoch[40] Train-cross-entropy=5.067481\n",
            "2020-10-13 09:43:18,536 [INFO]  Epoch[40] Train-Quaternion_2-accuracy=0.000000\n",
            "2020-10-13 09:43:18,538 [INFO]  Epoch[40] Time cost=1.618\n",
            "2020-10-13 09:43:18,545 [INFO]  Saved checkpoint to \"datawig_model/model-0040.params\"\n",
            "2020-10-13 09:43:18,611 [INFO]  Epoch[40] Validation-cross-entropy=5.479646\n",
            "2020-10-13 09:43:18,612 [INFO]  Epoch[40] Validation-Quaternion_2-accuracy=0.000000\n",
            "2020-10-13 09:43:19,387 [INFO]  Epoch[41] Batch [0-548]\tSpeed: 11432.46 samples/sec\tcross-entropy=5.303638\tQuaternion_2-accuracy=0.000000\n",
            "2020-10-13 09:43:20,126 [INFO]  Epoch[41] Train-cross-entropy=5.057526\n",
            "2020-10-13 09:43:20,128 [INFO]  Epoch[41] Train-Quaternion_2-accuracy=0.000000\n",
            "2020-10-13 09:43:20,132 [INFO]  Epoch[41] Time cost=1.519\n",
            "2020-10-13 09:43:20,144 [INFO]  Saved checkpoint to \"datawig_model/model-0041.params\"\n",
            "2020-10-13 09:43:20,223 [INFO]  Epoch[41] Validation-cross-entropy=5.451596\n",
            "2020-10-13 09:43:20,225 [INFO]  Epoch[41] Validation-Quaternion_2-accuracy=0.000000\n",
            "2020-10-13 09:43:20,990 [INFO]  Epoch[42] Batch [0-548]\tSpeed: 11677.41 samples/sec\tcross-entropy=5.297371\tQuaternion_2-accuracy=0.000000\n",
            "2020-10-13 09:43:21,688 [INFO]  Epoch[42] Train-cross-entropy=5.043313\n",
            "2020-10-13 09:43:21,689 [INFO]  Epoch[42] Train-Quaternion_2-accuracy=0.000000\n",
            "2020-10-13 09:43:21,690 [INFO]  Epoch[42] Time cost=1.458\n",
            "2020-10-13 09:43:21,699 [INFO]  Saved checkpoint to \"datawig_model/model-0042.params\"\n",
            "2020-10-13 09:43:21,769 [INFO]  Epoch[42] Validation-cross-entropy=5.450387\n",
            "2020-10-13 09:43:21,771 [INFO]  Epoch[42] Validation-Quaternion_2-accuracy=0.000000\n",
            "2020-10-13 09:43:22,484 [INFO]  Epoch[43] Batch [0-548]\tSpeed: 12523.67 samples/sec\tcross-entropy=5.290698\tQuaternion_2-accuracy=0.000000\n",
            "2020-10-13 09:43:23,214 [INFO]  Epoch[43] Train-cross-entropy=5.033693\n",
            "2020-10-13 09:43:23,215 [INFO]  Epoch[43] Train-Quaternion_2-accuracy=0.000000\n",
            "2020-10-13 09:43:23,218 [INFO]  Epoch[43] Time cost=1.443\n",
            "2020-10-13 09:43:23,225 [INFO]  Saved checkpoint to \"datawig_model/model-0043.params\"\n",
            "2020-10-13 09:43:23,292 [INFO]  Epoch[43] Validation-cross-entropy=5.507170\n",
            "2020-10-13 09:43:23,294 [INFO]  Epoch[43] Validation-Quaternion_2-accuracy=0.000000\n",
            "2020-10-13 09:43:24,012 [INFO]  Epoch[44] Batch [0-548]\tSpeed: 12351.01 samples/sec\tcross-entropy=5.279517\tQuaternion_2-accuracy=0.000000\n",
            "2020-10-13 09:43:24,720 [INFO]  Epoch[44] Train-cross-entropy=5.022591\n",
            "2020-10-13 09:43:24,722 [INFO]  Epoch[44] Train-Quaternion_2-accuracy=0.000000\n",
            "2020-10-13 09:43:24,725 [INFO]  Epoch[44] Time cost=1.428\n",
            "2020-10-13 09:43:24,737 [INFO]  Saved checkpoint to \"datawig_model/model-0044.params\"\n",
            "2020-10-13 09:43:24,798 [INFO]  Epoch[44] Validation-cross-entropy=5.493346\n",
            "2020-10-13 09:43:24,799 [INFO]  Epoch[44] Validation-Quaternion_2-accuracy=0.000000\n",
            "2020-10-13 09:43:25,495 [INFO]  Epoch[45] Batch [0-548]\tSpeed: 12705.49 samples/sec\tcross-entropy=5.271065\tQuaternion_2-accuracy=0.000000\n",
            "2020-10-13 09:43:26,214 [INFO]  Epoch[45] Train-cross-entropy=5.011606\n",
            "2020-10-13 09:43:26,215 [INFO]  Epoch[45] Train-Quaternion_2-accuracy=0.000000\n",
            "2020-10-13 09:43:26,219 [INFO]  Epoch[45] Time cost=1.417\n",
            "2020-10-13 09:43:26,224 [INFO]  Saved checkpoint to \"datawig_model/model-0045.params\"\n",
            "2020-10-13 09:43:26,303 [INFO]  Epoch[45] Validation-cross-entropy=5.469290\n",
            "2020-10-13 09:43:26,304 [INFO]  Epoch[45] Validation-Quaternion_2-accuracy=0.000000\n",
            "2020-10-13 09:43:27,052 [INFO]  Epoch[46] Batch [0-548]\tSpeed: 11850.01 samples/sec\tcross-entropy=5.260090\tQuaternion_2-accuracy=0.000000\n",
            "2020-10-13 09:43:27,799 [INFO]  Epoch[46] Train-cross-entropy=4.999445\n",
            "2020-10-13 09:43:27,800 [INFO]  Epoch[46] Train-Quaternion_2-accuracy=0.000000\n",
            "2020-10-13 09:43:27,801 [INFO]  Epoch[46] Time cost=1.494\n",
            "2020-10-13 09:43:27,812 [INFO]  Saved checkpoint to \"datawig_model/model-0046.params\"\n",
            "2020-10-13 09:43:27,887 [INFO]  No improvement detected for 5 epochs compared to 5.451595585365764 last error obtained: 5.455348719338902, stopping here\n",
            "2020-10-13 09:43:27,888 [INFO]  \n",
            "========== done (78.21067094802856 s) fit model\n",
            "/usr/local/lib/python3.6/dist-packages/datawig/calibration.py:92: RuntimeWarning: invalid value encountered in log\n",
            "  return np.log(probas)\n",
            "/usr/local/lib/python3.6/dist-packages/datawig/calibration.py:59: RuntimeWarning: invalid value encountered in greater_equal\n",
            "  bin_mask = (top_probas >= bin_lower) & (top_probas < bin_upper)\n",
            "/usr/local/lib/python3.6/dist-packages/datawig/calibration.py:59: RuntimeWarning: invalid value encountered in less\n",
            "  bin_mask = (top_probas >= bin_lower) & (top_probas < bin_upper)\n"
          ],
          "name": "stderr"
        }
      ]
    },
    {
      "cell_type": "code",
      "metadata": {
        "id": "TDzs679AWABZ",
        "outputId": "908f359d-fd74-410b-9579-cc100b9a55a9",
        "colab": {
          "base_uri": "https://localhost:8080/",
          "height": 407
        }
      },
      "source": [
        "y_pred"
      ],
      "execution_count": null,
      "outputs": [
        {
          "output_type": "execute_result",
          "data": {
            "text/html": [
              "<div>\n",
              "<style scoped>\n",
              "    .dataframe tbody tr th:only-of-type {\n",
              "        vertical-align: middle;\n",
              "    }\n",
              "\n",
              "    .dataframe tbody tr th {\n",
              "        vertical-align: top;\n",
              "    }\n",
              "\n",
              "    .dataframe thead th {\n",
              "        text-align: right;\n",
              "    }\n",
              "</style>\n",
              "<table border=\"1\" class=\"dataframe\">\n",
              "  <thead>\n",
              "    <tr style=\"text-align: right;\">\n",
              "      <th></th>\n",
              "      <th>Quaternion_1</th>\n",
              "      <th>Quaternion_2</th>\n",
              "      <th>Quaternion_3</th>\n",
              "      <th>Quaternion_4</th>\n",
              "      <th>Quaternion_2_imputed</th>\n",
              "    </tr>\n",
              "  </thead>\n",
              "  <tbody>\n",
              "    <tr>\n",
              "      <th>4</th>\n",
              "      <td>-0.7037</td>\n",
              "      <td>NaN</td>\n",
              "      <td>-0.0262</td>\n",
              "      <td>-0.7088</td>\n",
              "      <td>-0.104225</td>\n",
              "    </tr>\n",
              "    <tr>\n",
              "      <th>38</th>\n",
              "      <td>-0.7009</td>\n",
              "      <td>NaN</td>\n",
              "      <td>-0.2805</td>\n",
              "      <td>-0.6465</td>\n",
              "      <td>-0.196443</td>\n",
              "    </tr>\n",
              "    <tr>\n",
              "      <th>41</th>\n",
              "      <td>-0.6614</td>\n",
              "      <td>NaN</td>\n",
              "      <td>-0.3308</td>\n",
              "      <td>-0.6619</td>\n",
              "      <td>-0.184412</td>\n",
              "    </tr>\n",
              "    <tr>\n",
              "      <th>56</th>\n",
              "      <td>-0.7009</td>\n",
              "      <td>NaN</td>\n",
              "      <td>-0.0886</td>\n",
              "      <td>-0.7057</td>\n",
              "      <td>-0.107510</td>\n",
              "    </tr>\n",
              "    <tr>\n",
              "      <th>78</th>\n",
              "      <td>-0.6824</td>\n",
              "      <td>NaN</td>\n",
              "      <td>-0.0431</td>\n",
              "      <td>-0.7271</td>\n",
              "      <td>-0.111360</td>\n",
              "    </tr>\n",
              "    <tr>\n",
              "      <th>...</th>\n",
              "      <td>...</td>\n",
              "      <td>...</td>\n",
              "      <td>...</td>\n",
              "      <td>...</td>\n",
              "      <td>...</td>\n",
              "    </tr>\n",
              "    <tr>\n",
              "      <th>80936</th>\n",
              "      <td>-0.6726</td>\n",
              "      <td>NaN</td>\n",
              "      <td>0.4836</td>\n",
              "      <td>0.4980</td>\n",
              "      <td>0.185841</td>\n",
              "    </tr>\n",
              "    <tr>\n",
              "      <th>80956</th>\n",
              "      <td>-0.6851</td>\n",
              "      <td>NaN</td>\n",
              "      <td>0.4981</td>\n",
              "      <td>0.4881</td>\n",
              "      <td>0.161158</td>\n",
              "    </tr>\n",
              "    <tr>\n",
              "      <th>80960</th>\n",
              "      <td>-0.6859</td>\n",
              "      <td>NaN</td>\n",
              "      <td>0.5104</td>\n",
              "      <td>0.4707</td>\n",
              "      <td>0.165183</td>\n",
              "    </tr>\n",
              "    <tr>\n",
              "      <th>80970</th>\n",
              "      <td>-0.6894</td>\n",
              "      <td>NaN</td>\n",
              "      <td>0.5029</td>\n",
              "      <td>0.4833</td>\n",
              "      <td>0.155214</td>\n",
              "    </tr>\n",
              "    <tr>\n",
              "      <th>80975</th>\n",
              "      <td>-0.6903</td>\n",
              "      <td>NaN</td>\n",
              "      <td>0.4976</td>\n",
              "      <td>0.4802</td>\n",
              "      <td>0.161144</td>\n",
              "    </tr>\n",
              "  </tbody>\n",
              "</table>\n",
              "<p>8334 rows × 5 columns</p>\n",
              "</div>"
            ],
            "text/plain": [
              "       Quaternion_1  Quaternion_2  ...  Quaternion_4  Quaternion_2_imputed\n",
              "4           -0.7037           NaN  ...       -0.7088             -0.104225\n",
              "38          -0.7009           NaN  ...       -0.6465             -0.196443\n",
              "41          -0.6614           NaN  ...       -0.6619             -0.184412\n",
              "56          -0.7009           NaN  ...       -0.7057             -0.107510\n",
              "78          -0.6824           NaN  ...       -0.7271             -0.111360\n",
              "...             ...           ...  ...           ...                   ...\n",
              "80936       -0.6726           NaN  ...        0.4980              0.185841\n",
              "80956       -0.6851           NaN  ...        0.4881              0.161158\n",
              "80960       -0.6859           NaN  ...        0.4707              0.165183\n",
              "80970       -0.6894           NaN  ...        0.4833              0.155214\n",
              "80975       -0.6903           NaN  ...        0.4802              0.161144\n",
              "\n",
              "[8334 rows x 5 columns]"
            ]
          },
          "metadata": {
            "tags": []
          },
          "execution_count": 26
        }
      ]
    },
    {
      "cell_type": "code",
      "metadata": {
        "id": "4GnO1gypUO5S",
        "outputId": "e22f024c-49f2-4073-fe0c-bfbe73ca1bb9",
        "colab": {
          "base_uri": "https://localhost:8080/",
          "height": 408
        }
      },
      "source": [
        "sns.distplot(data['Quaternion_2'], hist=True, \n",
        "             kde=True, bins=90, hist_kws={'edgecolor':'black'},\n",
        "             kde_kws={'linewidth':4})\n",
        "\n",
        "sns.distplot(y_pred['Quaternion_2_imputed'], hist=True, \n",
        "             kde=True, bins=90, hist_kws={'edgecolor':'black'},\n",
        "             kde_kws={'linewidth':4})\n",
        "plt.legend(['Original data','Imputed Data'], prop={'size': 16}, title = 'datawig')\n",
        "plt.tight_layout(), plt.show()"
      ],
      "execution_count": null,
      "outputs": [
        {
          "output_type": "stream",
          "text": [
            "/usr/local/lib/python3.6/dist-packages/seaborn/distributions.py:2551: FutureWarning: `distplot` is a deprecated function and will be removed in a future version. Please adapt your code to use either `displot` (a figure-level function with similar flexibility) or `histplot` (an axes-level function for histograms).\n",
            "  warnings.warn(msg, FutureWarning)\n",
            "/usr/local/lib/python3.6/dist-packages/seaborn/distributions.py:2551: FutureWarning: `distplot` is a deprecated function and will be removed in a future version. Please adapt your code to use either `displot` (a figure-level function with similar flexibility) or `histplot` (an axes-level function for histograms).\n",
            "  warnings.warn(msg, FutureWarning)\n"
          ],
          "name": "stderr"
        },
        {
          "output_type": "display_data",
          "data": {
            "image/png": "[encoded data removed]",
            "text/plain": [
              "<Figure size 432x288 with 1 Axes>"
            ]
          },
          "metadata": {
            "tags": [],
            "needs_background": "light"
          }
        },
        {
          "output_type": "execute_result",
          "data": {
            "text/plain": [
              "(None, None)"
            ]
          },
          "metadata": {
            "tags": []
          },
          "execution_count": 27
        }
      ]
    }
  ]
}